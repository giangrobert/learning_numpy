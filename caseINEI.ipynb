{
 "cells": [
  {
   "cell_type": "markdown",
   "metadata": {},
   "source": [
    "# Exercice"
   ]
  },
  {
   "cell_type": "markdown",
   "metadata": {},
   "source": [
    "Se cuenta con un archivo de datos sobre la encuestarealizada por el INEI en el año 2020 a hogares rurales y urbanos que cuenta con los siguientes campos:"
   ]
  },
  {
   "cell_type": "code",
   "execution_count": 3,
   "metadata": {},
   "outputs": [
    {
     "name": "stdout",
     "output_type": "stream",
     "text": [
      "Requirement already satisfied: pandas in d:\\nueva carpeta\\nueva carpeta\\nueva carpeta\\exercise_numpy\\env\\lib\\site-packages (2.0.3)\n",
      "Requirement already satisfied: python-dateutil>=2.8.2 in d:\\nueva carpeta\\nueva carpeta\\nueva carpeta\\exercise_numpy\\env\\lib\\site-packages (from pandas) (2.8.2)\n",
      "Requirement already satisfied: pytz>=2020.1 in d:\\nueva carpeta\\nueva carpeta\\nueva carpeta\\exercise_numpy\\env\\lib\\site-packages (from pandas) (2023.3)\n",
      "Requirement already satisfied: tzdata>=2022.1 in d:\\nueva carpeta\\nueva carpeta\\nueva carpeta\\exercise_numpy\\env\\lib\\site-packages (from pandas) (2023.3)\n",
      "Requirement already satisfied: numpy>=1.21.0 in d:\\nueva carpeta\\nueva carpeta\\nueva carpeta\\exercise_numpy\\env\\lib\\site-packages (from pandas) (1.25.2)\n",
      "Requirement already satisfied: six>=1.5 in d:\\nueva carpeta\\nueva carpeta\\nueva carpeta\\exercise_numpy\\env\\lib\\site-packages (from python-dateutil>=2.8.2->pandas) (1.16.0)\n",
      "Note: you may need to restart the kernel to use updated packages.\n"
     ]
    }
   ],
   "source": [
    "pip install pandas"
   ]
  },
  {
   "cell_type": "code",
   "execution_count": 4,
   "metadata": {},
   "outputs": [],
   "source": [
    "import pandas as pd"
   ]
  },
  {
   "cell_type": "code",
   "execution_count": 5,
   "metadata": {},
   "outputs": [
    {
     "data": {
      "text/html": [
       "<div>\n",
       "<style scoped>\n",
       "    .dataframe tbody tr th:only-of-type {\n",
       "        vertical-align: middle;\n",
       "    }\n",
       "\n",
       "    .dataframe tbody tr th {\n",
       "        vertical-align: top;\n",
       "    }\n",
       "\n",
       "    .dataframe thead th {\n",
       "        text-align: right;\n",
       "    }\n",
       "</style>\n",
       "<table border=\"1\" class=\"dataframe\">\n",
       "  <thead>\n",
       "    <tr style=\"text-align: right;\">\n",
       "      <th></th>\n",
       "      <th>Año</th>\n",
       "      <th>Num Personas Hogar</th>\n",
       "      <th>Niños menores de 5 años</th>\n",
       "      <th>Resultado de la encuesta</th>\n",
       "      <th>Departamento(a)</th>\n",
       "      <th>Área residencia</th>\n",
       "    </tr>\n",
       "  </thead>\n",
       "  <tbody>\n",
       "    <tr>\n",
       "      <th>0</th>\n",
       "      <td>2020</td>\n",
       "      <td>1</td>\n",
       "      <td>0</td>\n",
       "      <td>1</td>\n",
       "      <td>1</td>\n",
       "      <td>1</td>\n",
       "    </tr>\n",
       "    <tr>\n",
       "      <th>1</th>\n",
       "      <td>2020</td>\n",
       "      <td>3</td>\n",
       "      <td>1</td>\n",
       "      <td>1</td>\n",
       "      <td>1</td>\n",
       "      <td>1</td>\n",
       "    </tr>\n",
       "    <tr>\n",
       "      <th>2</th>\n",
       "      <td>2020</td>\n",
       "      <td>4</td>\n",
       "      <td>1</td>\n",
       "      <td>1</td>\n",
       "      <td>1</td>\n",
       "      <td>1</td>\n",
       "    </tr>\n",
       "    <tr>\n",
       "      <th>3</th>\n",
       "      <td>2020</td>\n",
       "      <td>3</td>\n",
       "      <td>0</td>\n",
       "      <td>1</td>\n",
       "      <td>1</td>\n",
       "      <td>1</td>\n",
       "    </tr>\n",
       "    <tr>\n",
       "      <th>4</th>\n",
       "      <td>2020</td>\n",
       "      <td>4</td>\n",
       "      <td>0</td>\n",
       "      <td>1</td>\n",
       "      <td>1</td>\n",
       "      <td>1</td>\n",
       "    </tr>\n",
       "    <tr>\n",
       "      <th>...</th>\n",
       "      <td>...</td>\n",
       "      <td>...</td>\n",
       "      <td>...</td>\n",
       "      <td>...</td>\n",
       "      <td>...</td>\n",
       "      <td>...</td>\n",
       "    </tr>\n",
       "    <tr>\n",
       "      <th>38078</th>\n",
       "      <td>2020</td>\n",
       "      <td>1</td>\n",
       "      <td>0</td>\n",
       "      <td>1</td>\n",
       "      <td>25</td>\n",
       "      <td>2</td>\n",
       "    </tr>\n",
       "    <tr>\n",
       "      <th>38079</th>\n",
       "      <td>2020</td>\n",
       "      <td>2</td>\n",
       "      <td>0</td>\n",
       "      <td>1</td>\n",
       "      <td>25</td>\n",
       "      <td>2</td>\n",
       "    </tr>\n",
       "    <tr>\n",
       "      <th>38080</th>\n",
       "      <td>2020</td>\n",
       "      <td>1</td>\n",
       "      <td>0</td>\n",
       "      <td>1</td>\n",
       "      <td>25</td>\n",
       "      <td>2</td>\n",
       "    </tr>\n",
       "    <tr>\n",
       "      <th>38081</th>\n",
       "      <td>2020</td>\n",
       "      <td>6</td>\n",
       "      <td>0</td>\n",
       "      <td>1</td>\n",
       "      <td>25</td>\n",
       "      <td>2</td>\n",
       "    </tr>\n",
       "    <tr>\n",
       "      <th>38082</th>\n",
       "      <td>2020</td>\n",
       "      <td>5</td>\n",
       "      <td>1</td>\n",
       "      <td>1</td>\n",
       "      <td>25</td>\n",
       "      <td>2</td>\n",
       "    </tr>\n",
       "  </tbody>\n",
       "</table>\n",
       "<p>38083 rows × 6 columns</p>\n",
       "</div>"
      ],
      "text/plain": [
       "        Año  Num Personas Hogar  Niños menores de 5 años  \\\n",
       "0      2020                   1                        0   \n",
       "1      2020                   3                        1   \n",
       "2      2020                   4                        1   \n",
       "3      2020                   3                        0   \n",
       "4      2020                   4                        0   \n",
       "...     ...                 ...                      ...   \n",
       "38078  2020                   1                        0   \n",
       "38079  2020                   2                        0   \n",
       "38080  2020                   1                        0   \n",
       "38081  2020                   6                        0   \n",
       "38082  2020                   5                        1   \n",
       "\n",
       "       Resultado de la encuesta  Departamento(a)  Área residencia  \n",
       "0                             1                1                1  \n",
       "1                             1                1                1  \n",
       "2                             1                1                1  \n",
       "3                             1                1                1  \n",
       "4                             1                1                1  \n",
       "...                         ...              ...              ...  \n",
       "38078                         1               25                2  \n",
       "38079                         1               25                2  \n",
       "38080                         1               25                2  \n",
       "38081                         1               25                2  \n",
       "38082                         1               25                2  \n",
       "\n",
       "[38083 rows x 6 columns]"
      ]
     },
     "execution_count": 5,
     "metadata": {},
     "output_type": "execute_result"
    }
   ],
   "source": [
    "#cargar datos inei.cvs con pandas\n",
    "df = pd.read_csv('inei.csv', sep=';')\n",
    "df"
   ]
  },
  {
   "cell_type": "code",
   "execution_count": 6,
   "metadata": {},
   "outputs": [
    {
     "data": {
      "text/plain": [
       "Año                         38083\n",
       "Num Personas Hogar          38083\n",
       "Niños menores de 5 años     38083\n",
       "Resultado de la encuesta    38083\n",
       "Departamento(a)             38083\n",
       "Área residencia             38083\n",
       "dtype: int64"
      ]
     },
     "execution_count": 6,
     "metadata": {},
     "output_type": "execute_result"
    }
   ],
   "source": [
    "#Calcular el número total de hogares encuestados, solo mostrar un carácter.\n",
    "df.count()"
   ]
  },
  {
   "cell_type": "code",
   "execution_count": 7,
   "metadata": {},
   "outputs": [
    {
     "data": {
      "text/plain": [
       "'33.74%'"
      ]
     },
     "execution_count": 7,
     "metadata": {},
     "output_type": "execute_result"
    }
   ],
   "source": [
    "#Calcular el porcentaje de hogares en áreas rurales.\n",
    "rural=df['Área residencia'].value_counts(normalize=True)*100\n",
    "rural[2].round(2).astype(str) + '%'"
   ]
  },
  {
   "cell_type": "code",
   "execution_count": 8,
   "metadata": {},
   "outputs": [
    {
     "data": {
      "text/plain": [
       "Departamento(a)\n",
       "16    4.589481\n",
       "Name: Num Personas Hogar, dtype: float64"
      ]
     },
     "execution_count": 8,
     "metadata": {},
     "output_type": "execute_result"
    }
   ],
   "source": [
    "#Encontrar el departamento con el mayor promedio de personas por hogar. sin gropby\n",
    "df.groupby('Departamento(a)')['Num Personas Hogar'].mean().sort_values(ascending=False).head(1)"
   ]
  },
  {
   "cell_type": "code",
   "execution_count": 9,
   "metadata": {},
   "outputs": [
    {
     "name": "stdout",
     "output_type": "stream",
     "text": [
      "La proporcion de hogares con niños menores a 5 años en áreas urbanas es: 32.53682745582018 %\n"
     ]
    }
   ],
   "source": [
    "#Calcular la proporción de hogares con niños menores a 5 años en áreas urbanas.\n",
    "hogares= df[(df['Área residencia'])==1 & (df['Niños menores de 5 años']>=1)]\n",
    "proporcion = len(hogares)/len(df)*100\n",
    "print(f\"La proporcion de hogares con niños menores a 5 años en áreas urbanas es: {proporcion} %\")\n"
   ]
  },
  {
   "cell_type": "code",
   "execution_count": 10,
   "metadata": {},
   "outputs": [
    {
     "name": "stdout",
     "output_type": "stream",
     "text": [
      "No existen datos\n"
     ]
    }
   ],
   "source": [
    "#5. Identificar el departamento con la mayor proporción de hogares con resultado \"Aplazado\". \n",
    "\n",
    "aplazado = df[df['Resultado de la encuesta']==4]['Departamento(a)'].value_counts()\n",
    "if  aplazado.sum() > 0:\n",
    "    print((aplazado.value_counts(normalize=True)*100).max())\n",
    "else:\n",
    "    print(\"No existen datos\")\n"
   ]
  },
  {
   "cell_type": "code",
   "execution_count": 11,
   "metadata": {},
   "outputs": [
    {
     "name": "stdout",
     "output_type": "stream",
     "text": [
      "El promedio de personas por hogar en hogares con resultado 'Completo' es: 4.0\n"
     ]
    }
   ],
   "source": [
    "#6. Calcular el promedio de personas por hogar en hogares con resultado \"Completo\".\n",
    "resultado=df[df['Resultado de la encuesta']==1]['Num Personas Hogar'].mean().round(0)\n",
    "print(f\"El promedio de personas por hogar en hogares con resultado 'Completo' es: {resultado}\" )"
   ]
  },
  {
   "cell_type": "code",
   "execution_count": 12,
   "metadata": {},
   "outputs": [
    {
     "name": "stdout",
     "output_type": "stream",
     "text": [
      "El departamento con la menor proporción de hogares en áreas rurales es: 33.74%\n"
     ]
    }
   ],
   "source": [
    "#7.Encontrar el departamento con la menor proporción de hogares en áreas rurales.\n",
    "rural=df['Área residencia'].value_counts(normalize=True)*100\n",
    "proporcion=rural[2].round(2).astype(str) + '%'\n",
    "print(f\"El departamento con la menor proporción de hogares en áreas rurales es: {proporcion}\")"
   ]
  },
  {
   "cell_type": "code",
   "execution_count": 13,
   "metadata": {},
   "outputs": [
    {
     "name": "stdout",
     "output_type": "stream",
     "text": [
      "La proporcion de hogares con resultado 'Vivienda destruida' en cada departamento es: \n",
      " Departamento(a)\n",
      "1     16.67%\n",
      "17     12.5%\n",
      "19     12.5%\n",
      "16     12.5%\n",
      "22     8.33%\n",
      "24     8.33%\n",
      "25     8.33%\n",
      "15     4.17%\n",
      "21     4.17%\n",
      "10     4.17%\n",
      "12     4.17%\n",
      "13     4.17%\n",
      "Name: proportion, dtype: object\n"
     ]
    }
   ],
   "source": [
    "#8.Calcular la proporción de hogares con resultado \"Vivienda destruida\" en cada departamento\n",
    "destruida=df[df['Resultado de la encuesta']==7]['Departamento(a)']\n",
    "\n",
    "proporcion_por_depa=destruida.value_counts(normalize=True)*100\n",
    "proporcion_por_depa=proporcion_por_depa.round(2).astype(str) + '%'\n",
    "\n",
    "print(f\"La proporcion de hogares con resultado 'Vivienda destruida' en cada departamento es: \\n {proporcion_por_depa}\")\n"
   ]
  },
  {
   "cell_type": "code",
   "execution_count": 14,
   "metadata": {},
   "outputs": [
    {
     "name": "stdout",
     "output_type": "stream",
     "text": [
      "El promedio de personas por hogar en hogares con resultado 'Rechazada' en áreas rurales es: 0.0\n"
     ]
    }
   ],
   "source": [
    "#9.Calcular el promedio de personas por hogar en hogares con resultado \"Rechazada\" en áreas rurales.\n",
    "rechazada=df[(df['Resultado de la encuesta']==5) & (df['Área residencia']==2)]['Num Personas Hogar'].mean().round(0)\n",
    "print(f\"El promedio de personas por hogar en hogares con resultado 'Rechazada' en áreas rurales es: {rechazada}\")"
   ]
  },
  {
   "cell_type": "code",
   "execution_count": 15,
   "metadata": {},
   "outputs": [
    {
     "name": "stdout",
     "output_type": "stream",
     "text": [
      "La proporcion de hogares con resultado 'Vivienda no encontrada' es:  Departamento(a)\n",
      "11    2\n",
      "16    2\n",
      "8     1\n",
      "7     1\n",
      "10    1\n",
      "15    1\n",
      "18    1\n",
      "Name: count, dtype: int64\n"
     ]
    }
   ],
   "source": [
    "#10.Identificar el departamento con la mayor proporción de hogares con resultado \"Vivienda no encontrada\"\n",
    "no_encontrada=df[df['Resultado de la encuesta']==8]['Departamento(a)'].value_counts()\n",
    "no_encontrada\n",
    "# no_encontrada=no_encontrada.value_counts(normalize=True)*100\n",
    "# no_encontrada=no_encontrada.max()\n",
    "# no_encontrada=no_encontrada.round(2).astype(str) + '%'\n",
    "\n",
    "print(\"La proporcion de hogares con resultado 'Vivienda no encontrada' es: \",no_encontrada)"
   ]
  },
  {
   "cell_type": "code",
   "execution_count": 16,
   "metadata": {},
   "outputs": [
    {
     "data": {
      "text/plain": [
       "Departamento(a)\n",
       "1     10.88 %\n",
       "10     8.29 %\n",
       "9      8.29 %\n",
       "3      7.25 %\n",
       "17     7.25 %\n",
       "6       5.7 %\n",
       "16      5.7 %\n",
       "22     5.18 %\n",
       "5      5.18 %\n",
       "25     5.18 %\n",
       "2      4.66 %\n",
       "19     3.63 %\n",
       "15     3.11 %\n",
       "18     3.11 %\n",
       "23     2.59 %\n",
       "21     2.59 %\n",
       "20     2.59 %\n",
       "8      2.59 %\n",
       "13     2.07 %\n",
       "4      1.55 %\n",
       "14     1.04 %\n",
       "11     0.52 %\n",
       "12     0.52 %\n",
       "24     0.52 %\n",
       "Name: proportion, dtype: object"
      ]
     },
     "execution_count": 16,
     "metadata": {},
     "output_type": "execute_result"
    }
   ],
   "source": [
    "#13.Encontrar el departamento con la mayor proporción de hogares con resultado \"Vivienda desocupada o no es vivienda\" en áreas rurales.\n",
    "desocupada=df[(df['Resultado de la encuesta']==6) & (df['Área residencia']==2)]['Departamento(a)']\n",
    "desocupada=desocupada.value_counts(normalize=True)*100\n",
    "desocupada=desocupada.round(2).astype(str) + ' %'\n",
    "desocupada"
   ]
  },
  {
   "cell_type": "code",
   "execution_count": 17,
   "metadata": {},
   "outputs": [
    {
     "data": {
      "text/plain": [
       "Año   Num Personas Hogar  Niños menores de 5 años  Resultado de la encuesta  Departamento(a)  Área residencia\n",
       "2020  4                   1                        1                         15               1                  3.599387\n",
       "      3                   1                        1                         15               1                  2.776209\n",
       "      5                   1                        1                         15               1                  2.647083\n",
       "      6                   1                        1                         15               1                  1.654427\n",
       "      4                   1                        1                         24               1                  1.210556\n",
       "                                                                                                                   ...   \n",
       "      9                   3                        1                         23               1                  0.008070\n",
       "                                                                             24               1                  0.008070\n",
       "                          4                        1                         11               1                  0.008070\n",
       "                                                                             15               1                  0.008070\n",
       "      24                  5                        1                         25               1                  0.008070\n",
       "Name: proportion, Length: 604, dtype: float64"
      ]
     },
     "execution_count": 17,
     "metadata": {},
     "output_type": "execute_result"
    }
   ],
   "source": [
    "#14.Calcular el porcentaje de hogares con al menos un niño menor a 5 años en áreas urbanas.\n",
    "ninos=df[(df['Niños menores de 5 años']>=1) & (df['Área residencia']==1)].value_counts(normalize=True)*100\n",
    "ninos"
   ]
  },
  {
   "cell_type": "code",
   "execution_count": 18,
   "metadata": {},
   "outputs": [
    {
     "data": {
      "text/plain": [
       "Año   Num Personas Hogar  Niños menores de 5 años  Resultado de la encuesta  Departamento(a)  Área residencia\n",
       "2020  4                   1                        1                         15               1                  446\n",
       "      3                   1                        1                         15               1                  344\n",
       "      5                   1                        1                         15               1                  328\n",
       "      6                   1                        1                         15               1                  205\n",
       "      4                   1                        1                         24               1                  150\n",
       "                                                                                                                ... \n",
       "      9                   3                        1                         23               1                    1\n",
       "                                                                             24               1                    1\n",
       "                          4                        1                         11               1                    1\n",
       "                                                                             15               1                    1\n",
       "      24                  5                        1                         25               1                    1\n",
       "Name: count, Length: 604, dtype: int64"
      ]
     },
     "execution_count": 18,
     "metadata": {},
     "output_type": "execute_result"
    }
   ],
   "source": [
    "df[(df['Niños menores de 5 años']>=1) & df['Área residencia']==1].value_counts()\n",
    "\n"
   ]
  },
  {
   "cell_type": "code",
   "execution_count": 19,
   "metadata": {},
   "outputs": [
    {
     "data": {
      "text/plain": [
       "Departamento(a)\n",
       "23    3.14\n",
       "18    3.31\n",
       "21    3.32\n",
       "15    3.37\n",
       "4     3.39\n",
       "17    3.43\n",
       "8     3.43\n",
       "12    3.49\n",
       "19    3.57\n",
       "9      3.6\n",
       "10    3.63\n",
       "6     3.66\n",
       "3     3.68\n",
       "1      3.7\n",
       "2     3.74\n",
       "24    3.77\n",
       "7     3.79\n",
       "14    3.81\n",
       "5     3.83\n",
       "22    3.86\n",
       "11     3.9\n",
       "13     3.9\n",
       "25    4.19\n",
       "20     4.3\n",
       "16    4.59\n",
       "Name: Num Personas Hogar, dtype: object"
      ]
     },
     "execution_count": 19,
     "metadata": {},
     "output_type": "execute_result"
    }
   ],
   "source": [
    "#17.Encontrar el departamento con el menor promedio de personas por hogar.\n",
    "promedio=df.groupby('Departamento(a)')['Num Personas Hogar'].mean().sort_values(ascending=True)\n",
    "promedio=promedio.round(2).astype(str)\n",
    "promedio"
   ]
  },
  {
   "cell_type": "code",
   "execution_count": 20,
   "metadata": {},
   "outputs": [
    {
     "data": {
      "text/plain": [
       "Series([], Name: proportion, dtype: float64)"
      ]
     },
     "execution_count": 20,
     "metadata": {},
     "output_type": "execute_result"
    }
   ],
   "source": [
    "#18.Calcular el porcentaje de hogares con resultado \"Aplazado\" en áreas rurales.\n",
    "aplazado=df[(df['Resultado de la encuesta']==4) & (df['Área residencia']==2)].value_counts(normalize=True)*100\n",
    "aplazado"
   ]
  },
  {
   "cell_type": "code",
   "execution_count": 23,
   "metadata": {},
   "outputs": [
    {
     "data": {
      "text/plain": [
       "Departamento(a)\n",
       "22     0.16%\n",
       "9      0.16%\n",
       "21      0.4%\n",
       "3      0.79%\n",
       "5      0.79%\n",
       "1      0.87%\n",
       "25     1.11%\n",
       "10     1.34%\n",
       "16     1.42%\n",
       "6      1.42%\n",
       "19     1.66%\n",
       "20     1.74%\n",
       "2      1.82%\n",
       "12     2.13%\n",
       "8      2.37%\n",
       "17     2.77%\n",
       "24     2.85%\n",
       "11     3.32%\n",
       "15    39.21%\n",
       "13     4.03%\n",
       "18     4.35%\n",
       "14     4.82%\n",
       "4      5.53%\n",
       "23     6.25%\n",
       "7       8.7%\n",
       "Name: proportion, dtype: object"
      ]
     },
     "execution_count": 23,
     "metadata": {},
     "output_type": "execute_result"
    }
   ],
   "source": [
    "#19.Identificar el departamento con la menor proporción de hogares con resultado \"Rechazada\" en áreas urbanas\n",
    "rechazada=df[(df['Resultado de la encuesta']==5) & (df['Área residencia']==1)]['Departamento(a)']\n",
    "rechazada=rechazada.value_counts(normalize=True)*100\n",
    "rechazada=rechazada.round(2).astype(str) + '%'\n",
    "rechazada.sort_values(ascending=True)"
   ]
  },
  {
   "cell_type": "code",
   "execution_count": 26,
   "metadata": {},
   "outputs": [
    {
     "name": "stdout",
     "output_type": "stream",
     "text": [
      "El promedio de personas por hogar en el departamento de Puno es: 3.0\n"
     ]
    }
   ],
   "source": [
    "#21.Calcular el promedio de personas por hogar en el departamento de Puno\n",
    "puno=df[df['Departamento(a)']==21]['Num Personas Hogar'].mean().round(0)\n",
    "print(f\"El promedio de personas por hogar en el departamento de Puno es: {puno}\")"
   ]
  },
  {
   "cell_type": "code",
   "execution_count": 28,
   "metadata": {},
   "outputs": [
    {
     "name": "stdout",
     "output_type": "stream",
     "text": [
      "El porcentaje de hogares con resultado 'Vivienda no encontrada' en el departamento de Puno es: Series([], Name: proportion, dtype: float64)\n"
     ]
    }
   ],
   "source": [
    "#22.Encontrar el porcentaje de hogares con resultado \"Vivienda no encontrada\" en el departamento de Puno.\n",
    "puno=df[(df['Resultado de la encuesta']==8) & (df['Departamento(a)']==21)].value_counts(normalize=True)*100\n",
    "print(f\"El porcentaje de hogares con resultado 'Vivienda no encontrada' en el departamento de Puno es: {puno}\")"
   ]
  },
  {
   "cell_type": "code",
   "execution_count": 29,
   "metadata": {},
   "outputs": [
    {
     "name": "stdout",
     "output_type": "stream",
     "text": [
      "El departamento de Puno tiene una proporción de hogares con resultado 'Rechazada' en hogares con niños menores a 5 años de: Series([], Name: proportion, dtype: float64)\n"
     ]
    }
   ],
   "source": [
    "#24.Calcular la proporción de hogares con resultado \"Rechazada\" en hogares con niños menores a 5 años en el departamento de Puno\n",
    "puno=df[(df['Resultado de la encuesta']==5) & (df['Niños menores de 5 años']>=1) & (df['Departamento(a)']==21)].value_counts(normalize=True)*100\n",
    "print(f\"El departamento de Puno tiene una proporción de hogares con resultado 'Rechazada' en hogares con niños menores a 5 años de: {puno}\")"
   ]
  },
  {
   "cell_type": "code",
   "execution_count": 36,
   "metadata": {},
   "outputs": [
    {
     "data": {
      "text/plain": [
       "Área residencia\n",
       "2    61.02%\n",
       "1    38.98%\n",
       "Name: proportion, dtype: object"
      ]
     },
     "execution_count": 36,
     "metadata": {},
     "output_type": "execute_result"
    }
   ],
   "source": [
    "#Encontrar el área de residencia (urbano/rural) con la mayor proporción de hogares con resultado \"Completo\" en el departamento de Puno.\n",
    "puno=df[(df['Resultado de la encuesta']==1) & (df['Departamento(a)']==21)]['Área residencia'].value_counts(normalize=True)*100\n",
    "puno=puno.round(2).astype(str) + '%'\n",
    "puno"
   ]
  },
  {
   "cell_type": "code",
   "execution_count": 37,
   "metadata": {},
   "outputs": [
    {
     "name": "stdout",
     "output_type": "stream",
     "text": [
      "Collecting matplotlib\n",
      "  Obtaining dependency information for matplotlib from https://files.pythonhosted.org/packages/4d/9c/65830d4a56c47f5283eaa244dc1228c5da9c844a9f999ebcc2e69bf6cc65/matplotlib-3.7.2-cp311-cp311-win_amd64.whl.metadata\n",
      "  Downloading matplotlib-3.7.2-cp311-cp311-win_amd64.whl.metadata (5.8 kB)\n",
      "Collecting contourpy>=1.0.1 (from matplotlib)\n",
      "  Obtaining dependency information for contourpy>=1.0.1 from https://files.pythonhosted.org/packages/16/09/989b982322439faa4bafffcd669e6f942b38fee897c2664c987bcd091dec/contourpy-1.1.0-cp311-cp311-win_amd64.whl.metadata\n",
      "  Downloading contourpy-1.1.0-cp311-cp311-win_amd64.whl.metadata (5.7 kB)\n",
      "Collecting cycler>=0.10 (from matplotlib)\n",
      "  Downloading cycler-0.11.0-py3-none-any.whl (6.4 kB)\n",
      "Collecting fonttools>=4.22.0 (from matplotlib)\n",
      "  Obtaining dependency information for fonttools>=4.22.0 from https://files.pythonhosted.org/packages/95/b6/9a5133deb5838c4dbe3ea27e8dba123622aa5112d43a079e9587636b4faf/fonttools-4.42.1-cp311-cp311-win_amd64.whl.metadata\n",
      "  Downloading fonttools-4.42.1-cp311-cp311-win_amd64.whl.metadata (154 kB)\n",
      "     ---------------------------------------- 0.0/154.1 kB ? eta -:--:--\n",
      "     -------------------------------------  153.6/154.1 kB 3.1 MB/s eta 0:00:01\n",
      "     -------------------------------------- 154.1/154.1 kB 3.1 MB/s eta 0:00:00\n",
      "Collecting kiwisolver>=1.0.1 (from matplotlib)\n",
      "  Obtaining dependency information for kiwisolver>=1.0.1 from https://files.pythonhosted.org/packages/1e/37/d3c2d4ba2719059a0f12730947bbe1ad5ee8bff89e8c35319dcb2c9ddb4c/kiwisolver-1.4.5-cp311-cp311-win_amd64.whl.metadata\n",
      "  Downloading kiwisolver-1.4.5-cp311-cp311-win_amd64.whl.metadata (6.5 kB)\n",
      "Requirement already satisfied: numpy>=1.20 in d:\\nueva carpeta\\nueva carpeta\\nueva carpeta\\exercise_numpy\\env\\lib\\site-packages (from matplotlib) (1.25.2)\n",
      "Requirement already satisfied: packaging>=20.0 in d:\\nueva carpeta\\nueva carpeta\\nueva carpeta\\exercise_numpy\\env\\lib\\site-packages (from matplotlib) (23.1)\n",
      "Collecting pillow>=6.2.0 (from matplotlib)\n",
      "  Obtaining dependency information for pillow>=6.2.0 from https://files.pythonhosted.org/packages/66/d4/054e491f0880bf0119ee79cdc03264e01d5732e06c454da8c69b83a7c8f2/Pillow-10.0.0-cp311-cp311-win_amd64.whl.metadata\n",
      "  Downloading Pillow-10.0.0-cp311-cp311-win_amd64.whl.metadata (9.6 kB)\n",
      "Collecting pyparsing<3.1,>=2.3.1 (from matplotlib)\n",
      "  Downloading pyparsing-3.0.9-py3-none-any.whl (98 kB)\n",
      "     ---------------------------------------- 0.0/98.3 kB ? eta -:--:--\n",
      "     ---------------------------------------- 98.3/98.3 kB 5.9 MB/s eta 0:00:00\n",
      "Requirement already satisfied: python-dateutil>=2.7 in d:\\nueva carpeta\\nueva carpeta\\nueva carpeta\\exercise_numpy\\env\\lib\\site-packages (from matplotlib) (2.8.2)\n",
      "Requirement already satisfied: six>=1.5 in d:\\nueva carpeta\\nueva carpeta\\nueva carpeta\\exercise_numpy\\env\\lib\\site-packages (from python-dateutil>=2.7->matplotlib) (1.16.0)\n",
      "Downloading matplotlib-3.7.2-cp311-cp311-win_amd64.whl (7.5 MB)\n",
      "   ---------------------------------------- 0.0/7.5 MB ? eta -:--:--\n",
      "   - -------------------------------------- 0.3/7.5 MB 9.9 MB/s eta 0:00:01\n",
      "   ---- ----------------------------------- 0.8/7.5 MB 9.8 MB/s eta 0:00:01\n",
      "   ------- -------------------------------- 1.3/7.5 MB 10.5 MB/s eta 0:00:01\n",
      "   ---------- ----------------------------- 1.9/7.5 MB 11.0 MB/s eta 0:00:01\n",
      "   ------------- -------------------------- 2.5/7.5 MB 11.5 MB/s eta 0:00:01\n",
      "   ----------------- ---------------------- 3.2/7.5 MB 12.2 MB/s eta 0:00:01\n",
      "   -------------------- ------------------- 3.9/7.5 MB 12.3 MB/s eta 0:00:01\n",
      "   ------------------------ --------------- 4.6/7.5 MB 12.7 MB/s eta 0:00:01\n",
      "   ---------------------------- ----------- 5.3/7.5 MB 13.0 MB/s eta 0:00:01\n",
      "   ------------------------------- -------- 6.0/7.5 MB 13.2 MB/s eta 0:00:01\n",
      "   ----------------------------------- ---- 6.7/7.5 MB 13.3 MB/s eta 0:00:01\n",
      "   ---------------------------------------  7.4/7.5 MB 13.4 MB/s eta 0:00:01\n",
      "   ---------------------------------------- 7.5/7.5 MB 13.0 MB/s eta 0:00:00\n",
      "Downloading contourpy-1.1.0-cp311-cp311-win_amd64.whl (470 kB)\n",
      "   ---------------------------------------- 0.0/470.9 kB ? eta -:--:--\n",
      "   --------------------------------------- 470.9/470.9 kB 14.9 MB/s eta 0:00:00\n",
      "Downloading fonttools-4.42.1-cp311-cp311-win_amd64.whl (2.1 MB)\n",
      "   ---------------------------------------- 0.0/2.1 MB ? eta -:--:--\n",
      "   ----------- ---------------------------- 0.6/2.1 MB 18.8 MB/s eta 0:00:01\n",
      "   ----------------------- ---------------- 1.3/2.1 MB 16.1 MB/s eta 0:00:01\n",
      "   ---------------------------------- ----- 1.8/2.1 MB 14.4 MB/s eta 0:00:01\n",
      "   ---------------------------------------- 2.1/2.1 MB 13.5 MB/s eta 0:00:00\n",
      "Downloading kiwisolver-1.4.5-cp311-cp311-win_amd64.whl (56 kB)\n",
      "   ---------------------------------------- 0.0/56.1 kB ? eta -:--:--\n",
      "   ---------------------------------------- 56.1/56.1 kB ? eta 0:00:00\n",
      "Downloading Pillow-10.0.0-cp311-cp311-win_amd64.whl (2.5 MB)\n",
      "   ---------------------------------------- 0.0/2.5 MB ? eta -:--:--\n",
      "   -------- ------------------------------- 0.6/2.5 MB 17.8 MB/s eta 0:00:01\n",
      "   ------------------- -------------------- 1.2/2.5 MB 15.5 MB/s eta 0:00:01\n",
      "   ---------------------------- ----------- 1.8/2.5 MB 14.0 MB/s eta 0:00:01\n",
      "   ------------------------------------- -- 2.4/2.5 MB 13.7 MB/s eta 0:00:01\n",
      "   ---------------------------------------- 2.5/2.5 MB 13.3 MB/s eta 0:00:00\n",
      "Installing collected packages: pyparsing, pillow, kiwisolver, fonttools, cycler, contourpy, matplotlib\n",
      "Successfully installed contourpy-1.1.0 cycler-0.11.0 fonttools-4.42.1 kiwisolver-1.4.5 matplotlib-3.7.2 pillow-10.0.0 pyparsing-3.0.9\n",
      "Note: you may need to restart the kernel to use updated packages.\n"
     ]
    }
   ],
   "source": [
    "pip install matplotlib"
   ]
  },
  {
   "cell_type": "code",
   "execution_count": 38,
   "metadata": {},
   "outputs": [
    {
     "name": "stdout",
     "output_type": "stream",
     "text": [
      "Collecting seaborn\n",
      "  Downloading seaborn-0.12.2-py3-none-any.whl (293 kB)\n",
      "     ---------------------------------------- 0.0/293.3 kB ? eta -:--:--\n",
      "     ---------- ---------------------------- 81.9/293.3 kB 2.3 MB/s eta 0:00:01\n",
      "     -------------------------------------- 293.3/293.3 kB 4.6 MB/s eta 0:00:00\n",
      "Requirement already satisfied: numpy!=1.24.0,>=1.17 in d:\\nueva carpeta\\nueva carpeta\\nueva carpeta\\exercise_numpy\\env\\lib\\site-packages (from seaborn) (1.25.2)\n",
      "Requirement already satisfied: pandas>=0.25 in d:\\nueva carpeta\\nueva carpeta\\nueva carpeta\\exercise_numpy\\env\\lib\\site-packages (from seaborn) (2.0.3)\n",
      "Requirement already satisfied: matplotlib!=3.6.1,>=3.1 in d:\\nueva carpeta\\nueva carpeta\\nueva carpeta\\exercise_numpy\\env\\lib\\site-packages (from seaborn) (3.7.2)\n",
      "Requirement already satisfied: contourpy>=1.0.1 in d:\\nueva carpeta\\nueva carpeta\\nueva carpeta\\exercise_numpy\\env\\lib\\site-packages (from matplotlib!=3.6.1,>=3.1->seaborn) (1.1.0)\n",
      "Requirement already satisfied: cycler>=0.10 in d:\\nueva carpeta\\nueva carpeta\\nueva carpeta\\exercise_numpy\\env\\lib\\site-packages (from matplotlib!=3.6.1,>=3.1->seaborn) (0.11.0)\n",
      "Requirement already satisfied: fonttools>=4.22.0 in d:\\nueva carpeta\\nueva carpeta\\nueva carpeta\\exercise_numpy\\env\\lib\\site-packages (from matplotlib!=3.6.1,>=3.1->seaborn) (4.42.1)\n",
      "Requirement already satisfied: kiwisolver>=1.0.1 in d:\\nueva carpeta\\nueva carpeta\\nueva carpeta\\exercise_numpy\\env\\lib\\site-packages (from matplotlib!=3.6.1,>=3.1->seaborn) (1.4.5)\n",
      "Requirement already satisfied: packaging>=20.0 in d:\\nueva carpeta\\nueva carpeta\\nueva carpeta\\exercise_numpy\\env\\lib\\site-packages (from matplotlib!=3.6.1,>=3.1->seaborn) (23.1)\n",
      "Requirement already satisfied: pillow>=6.2.0 in d:\\nueva carpeta\\nueva carpeta\\nueva carpeta\\exercise_numpy\\env\\lib\\site-packages (from matplotlib!=3.6.1,>=3.1->seaborn) (10.0.0)\n",
      "Requirement already satisfied: pyparsing<3.1,>=2.3.1 in d:\\nueva carpeta\\nueva carpeta\\nueva carpeta\\exercise_numpy\\env\\lib\\site-packages (from matplotlib!=3.6.1,>=3.1->seaborn) (3.0.9)\n",
      "Requirement already satisfied: python-dateutil>=2.7 in d:\\nueva carpeta\\nueva carpeta\\nueva carpeta\\exercise_numpy\\env\\lib\\site-packages (from matplotlib!=3.6.1,>=3.1->seaborn) (2.8.2)\n",
      "Requirement already satisfied: pytz>=2020.1 in d:\\nueva carpeta\\nueva carpeta\\nueva carpeta\\exercise_numpy\\env\\lib\\site-packages (from pandas>=0.25->seaborn) (2023.3)\n",
      "Requirement already satisfied: tzdata>=2022.1 in d:\\nueva carpeta\\nueva carpeta\\nueva carpeta\\exercise_numpy\\env\\lib\\site-packages (from pandas>=0.25->seaborn) (2023.3)\n",
      "Requirement already satisfied: six>=1.5 in d:\\nueva carpeta\\nueva carpeta\\nueva carpeta\\exercise_numpy\\env\\lib\\site-packages (from python-dateutil>=2.7->matplotlib!=3.6.1,>=3.1->seaborn) (1.16.0)\n",
      "Installing collected packages: seaborn\n",
      "Successfully installed seaborn-0.12.2\n",
      "Note: you may need to restart the kernel to use updated packages.\n"
     ]
    }
   ],
   "source": [
    "pip install seaborn"
   ]
  },
  {
   "cell_type": "code",
   "execution_count": 43,
   "metadata": {},
   "outputs": [
    {
     "data": {
      "image/png": "[encoded data removed]",
      "text/plain": [
       "<Figure size 1000x500 with 1 Axes>"
      ]
     },
     "metadata": {},
     "output_type": "display_data"
    }
   ],
   "source": [
    "#26. Gráfico que muestre el número de niños en el area rural en los departamentos de Puno,Arequipa y Cusco\n",
    "import matplotlib.pyplot as plt\n",
    "import seaborn as sns\n",
    "\n",
    "plt.figure(figsize=(10,5))\n",
    "sns.barplot(x='Departamento(a)', y='Niños menores de 5 años', hue='Área residencia', data=df[df['Departamento(a)'].isin([21,4,8])])\n",
    "plt.xlabel('Departamento(a)')\n",
    "plt.ylabel('Niños menores de 5 años')\n",
    "plt.title('Número de niños en el area rural en los departamentos de Puno,Arequipa y Cusco')\n",
    "plt.show()\n",
    "\n"
   ]
  }
 ],
 "metadata": {
  "kernelspec": {
   "display_name": "env",
   "language": "python",
   "name": "python3"
  },
  "language_info": {
   "codemirror_mode": {
    "name": "ipython",
    "version": 3
   },
   "file_extension": ".py",
   "mimetype": "text/x-python",
   "name": "python",
   "nbconvert_exporter": "python",
   "pygments_lexer": "ipython3",
   "version": "3.11.5"
  },
  "orig_nbformat": 4
 },
 "nbformat": 4,
 "nbformat_minor": 2
}
